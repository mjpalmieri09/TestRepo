{
 "cells": [
  {
   "cell_type": "markdown",
   "id": "96bdc744-c925-4cff-b9de-6079137f4270",
   "metadata": {},
   "source": [
    "# Data Science Tools and Ecosystem"
   ]
  },
  {
   "cell_type": "code",
   "execution_count": null,
   "id": "f310e696-e421-4911-998f-8e06b51955e1",
   "metadata": {},
   "outputs": [],
   "source": []
  },
  {
   "cell_type": "markdown",
   "id": "642ddf8c-7ee8-4822-a264-d46a3eebf6cd",
   "metadata": {},
   "source": [
    "In this notebook, Data Science Tools and Ecosystem are summarized"
   ]
  },
  {
   "cell_type": "markdown",
   "id": "4ada4263-e007-44ab-bcc2-be456856884f",
   "metadata": {},
   "source": [
    "Some of the popular languages that Data Scientists use are:\n",
    "1. python\n",
    "2. R\n",
    "3. Julia"
   ]
  },
  {
   "cell_type": "markdown",
   "id": "2c624ebc-303c-4599-9de5-cf80527d7f4a",
   "metadata": {},
   "source": [
    "Some of the commonly used libraries used by Data Scientists include:\n",
    "1. Plotly\n",
    "2. NumPy\n",
    "3. Pandas"
   ]
  },
  {
   "cell_type": "markdown",
   "id": "64ed03f7-af63-41e7-9df4-4382a1dbb27c",
   "metadata": {},
   "source": [
    "| Data Science Tools |\n",
    "| ------------------ |\n",
    "| MySQL |\n",
    "| Kafka |\n",
    "| Git |"
   ]
  },
  {
   "cell_type": "markdown",
   "id": "e309c8b9-b351-410e-9bc5-638371195cf0",
   "metadata": {},
   "source": [
    "### Below are a few examples of evaluating arithmetic expressions in Python."
   ]
  },
  {
   "cell_type": "markdown",
   "id": "cf583834-edfe-4d70-8821-7ee057124e89",
   "metadata": {},
   "source": [
    "This a simple arithmetic expression to mutiply then add integers."
   ]
  },
  {
   "cell_type": "code",
   "execution_count": 4,
   "id": "a626985b-114f-4faa-a08e-2aca442b03d1",
   "metadata": {},
   "outputs": [
    {
     "data": {
      "text/plain": [
       "17"
      ]
     },
     "execution_count": 4,
     "metadata": {},
     "output_type": "execute_result"
    }
   ],
   "source": [
    "(3*4)+5"
   ]
  },
  {
   "cell_type": "markdown",
   "id": "51a166de-a123-4627-b84e-de7a43416ef5",
   "metadata": {},
   "source": [
    "This will convert 200 minutes to hours by diving by 60."
   ]
  },
  {
   "cell_type": "code",
   "execution_count": 5,
   "id": "861a6744-9636-4a53-9692-51ec8f16c1e4",
   "metadata": {},
   "outputs": [
    {
     "data": {
      "text/plain": [
       "3.3333333333333335"
      ]
     },
     "execution_count": 5,
     "metadata": {},
     "output_type": "execute_result"
    }
   ],
   "source": [
    "200 / 60"
   ]
  },
  {
   "cell_type": "markdown",
   "id": "b1bf73cd-c85c-4729-accd-6589c8194c6d",
   "metadata": {},
   "source": [
    "**Objectives**\n",
    "- List popular languages for data Science\n",
    "- List packages for data science\n",
    "- Intro to Juypter Notebooks\n",
    "- Intro to R and RStudio\n",
    "- Intro to Git / GitHub"
   ]
  },
  {
   "cell_type": "markdown",
   "id": "76c4e16a-659e-4f13-8cbf-278af85bb5d0",
   "metadata": {},
   "source": [
    "## Author\n",
    "Michael Palmieri"
   ]
  },
  {
   "cell_type": "code",
   "execution_count": null,
   "id": "7e5b0e3e-055c-4b3a-9f20-08f9c264dba5",
   "metadata": {},
   "outputs": [],
   "source": []
  }
 ],
 "metadata": {
  "kernelspec": {
   "display_name": "Python [conda env:base] *",
   "language": "python",
   "name": "conda-base-py"
  },
  "language_info": {
   "codemirror_mode": {
    "name": "ipython",
    "version": 3
   },
   "file_extension": ".py",
   "mimetype": "text/x-python",
   "name": "python",
   "nbconvert_exporter": "python",
   "pygments_lexer": "ipython3",
   "version": "3.13.5"
  }
 },
 "nbformat": 4,
 "nbformat_minor": 5
}
